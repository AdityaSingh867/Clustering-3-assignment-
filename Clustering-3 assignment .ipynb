{
 "cells": [
  {
   "cell_type": "markdown",
   "id": "04f96932-e4ce-4b8c-8ac8-841f52b7e1ea",
   "metadata": {},
   "source": [
    "Q1. Explain the basic concept of clustering and give examples of applications where clustering is useful."
   ]
  },
  {
   "cell_type": "markdown",
   "id": "339e7d6b-19e0-4015-afcc-cb6072b61650",
   "metadata": {},
   "source": [
    "Grouping unlabeled examples is called clustering."
   ]
  },
  {
   "cell_type": "markdown",
   "id": "f2df2d3e-9445-4291-b4d5-81b53d9cf73e",
   "metadata": {},
   "source": [
    " market research, pattern recognition, data analysis, and image processing."
   ]
  },
  {
   "cell_type": "markdown",
   "id": "2858bd4e-7188-42f2-bf88-c7425a84b545",
   "metadata": {},
   "source": [
    "Q2. What is DBSCAN and how does it differ from other clustering algorithms such as k-means and\n",
    "hierarchical clustering?"
   ]
  },
  {
   "cell_type": "markdown",
   "id": "7741f6a5-3b04-4f88-8ab1-07ddfc700882",
   "metadata": {},
   "source": [
    "DBSCAN is also a cluster algorithm it use radius for making the cluster , but other clusters see the distance between points\n",
    "\n",
    "In DBSCAN method \n",
    "\n",
    "we take a point in dataset and set a specific radius of area of that point and see how many another point(dataset values) are comes in side the area of radius if there is minimum four point in that range of area including the point that have a radius than we say that this point is core point \n",
    "\n",
    "if in the range of radius there is only to point inside so that point is called border point \n",
    "\n",
    "If in the range of radius there is no any point in the the circle so that point is called outlier of the dataset"
   ]
  },
  {
   "cell_type": "markdown",
   "id": "3f229896-c355-4adb-b81c-7ef04daa8f89",
   "metadata": {},
   "source": [
    "Q3. How do you determine the optimal values for the epsilon and minimum points parameters in DBSCAN\n",
    "clustering?"
   ]
  },
  {
   "cell_type": "markdown",
   "id": "a7434734-4330-4948-a50a-3a6e27f59269",
   "metadata": {},
   "source": [
    "The ideal value for ε will be equal to the distance value at the “crook of the elbow”, or the point of maximum curvature."
   ]
  },
  {
   "cell_type": "markdown",
   "id": "a31cacd8-c4bd-4f7c-b81c-6d7da3112f71",
   "metadata": {},
   "source": [
    "Q4. How does DBSCAN clustering handle outliers in a dataset?"
   ]
  },
  {
   "cell_type": "markdown",
   "id": "6a5a5e3f-7490-454d-a7a4-0f18cb0fd172",
   "metadata": {},
   "source": [
    " DBSCAN considers two main parameters (as mentioned below) to form a cluster with the nearest data point and based on the high or low-density region, it detects Inliers or outliers."
   ]
  },
  {
   "cell_type": "markdown",
   "id": "97fbc0b8-9783-4faa-ba15-88ac9dabbd2f",
   "metadata": {},
   "source": [
    "Q5. How does DBSCAN clustering differ from k-means clustering?"
   ]
  },
  {
   "cell_type": "markdown",
   "id": "88a14447-d881-42ca-90a6-619458ebf6ce",
   "metadata": {},
   "source": [
    "K-means needs a prototype-based concept of a cluster but DBSCAN needs a density-based concept."
   ]
  },
  {
   "cell_type": "markdown",
   "id": "5d4deb5a-3c62-4535-b5f6-41eb6c11b279",
   "metadata": {},
   "source": [
    "Q6. Can DBSCAN clustering be applied to datasets with high dimensional feature spaces? If so, what are\n",
    "some potential challenges?"
   ]
  },
  {
   "cell_type": "markdown",
   "id": "f9ab4408-d2af-4218-9a3f-4d0ae26488c8",
   "metadata": {},
   "source": [
    "DBSCAN clustering can be applied to datasets with high dimensional feature spaces. However, there are some potential challenges when using DBSCAN with high dimensional data."
   ]
  },
  {
   "cell_type": "markdown",
   "id": "4b80d176-09e4-488e-aec7-d194e69465ac",
   "metadata": {},
   "source": [
    "Increased computational complexity \n",
    "\n",
    "The curse of dimensionality"
   ]
  },
  {
   "cell_type": "markdown",
   "id": "ff890297-d1e9-4d68-9266-0ec51519dd6a",
   "metadata": {},
   "source": [
    "Q7. How does DBSCAN clustering handle clusters with varying densities?"
   ]
  },
  {
   "cell_type": "markdown",
   "id": "64466243-cf77-4a1d-80fd-48d79b404062",
   "metadata": {},
   "source": [
    "clusters are dense regions in space separated by regions of lower density"
   ]
  },
  {
   "cell_type": "markdown",
   "id": "f7fa1cc3-8406-4332-b48b-1008765aebfe",
   "metadata": {},
   "source": [
    "Q8. What are some common evaluation metrics used to assess the quality of DBSCAN clustering results?"
   ]
  },
  {
   "cell_type": "markdown",
   "id": "d442ce2a-26d9-4e40-b8a2-995224427559",
   "metadata": {},
   "source": [
    "Some common internal evaluation metrics for DBSCAN clustering include the Silhouette score and the Davies-Bouldin index"
   ]
  },
  {
   "cell_type": "markdown",
   "id": "be3c6ff3-cb62-4f5b-ae5b-457a7383f7d4",
   "metadata": {},
   "source": [
    "Q9. Can DBSCAN clustering be used for semi-supervised learning tasks?"
   ]
  },
  {
   "cell_type": "markdown",
   "id": "f57b2f8e-2bd0-4cac-88ee-efbd03d3f283",
   "metadata": {},
   "source": [
    "Yes, DBSCAN clustering can be used for semi-supervised learning tasks"
   ]
  },
  {
   "cell_type": "markdown",
   "id": "5ece0e17-f04c-4bb6-80fd-06a80be12b8a",
   "metadata": {},
   "source": [
    "Q10. How does DBSCAN clustering handle datasets with noise or missing values?"
   ]
  },
  {
   "cell_type": "markdown",
   "id": "9ffffd06-dcb6-41ed-95fe-ea7742b35c56",
   "metadata": {},
   "source": [
    "Data points that do not belong to any cluster are classified as noise and are not assigned to any cluster"
   ]
  },
  {
   "cell_type": "markdown",
   "id": "8a13ce79-f89b-47cd-9f23-af7066cb1da7",
   "metadata": {},
   "source": [
    "Q11. Implement the DBSCAN algorithm using a python programming language, and apply it to a sample\n",
    "dataset. Discuss the clustering results and interpret the meaning of the obtained clusters."
   ]
  },
  {
   "cell_type": "code",
   "execution_count": 20,
   "id": "848c5c74-874f-4aa8-9b3b-3ada98dd0f09",
   "metadata": {},
   "outputs": [],
   "source": [
    "from sklearn.datasets import make_moons"
   ]
  },
  {
   "cell_type": "code",
   "execution_count": 21,
   "id": "24f68a63-eedf-4961-910b-ea745e82f8fb",
   "metadata": {},
   "outputs": [],
   "source": [
    "X , y = make_moons(n_samples=200 , noise=0.05)"
   ]
  },
  {
   "cell_type": "code",
   "execution_count": 22,
   "id": "fc340d79-d1cc-4a1d-a946-236d4f52ebec",
   "metadata": {},
   "outputs": [],
   "source": [
    "from sklearn.model_selection import train_test_split"
   ]
  },
  {
   "cell_type": "code",
   "execution_count": 23,
   "id": "8d8d5479-7a1d-4c5a-9891-7e2852207cb2",
   "metadata": {},
   "outputs": [],
   "source": [
    "X_train , X_test , y_train , y_test = train_test_split(X,y,test_size=0.33 , random_state=42)"
   ]
  },
  {
   "cell_type": "code",
   "execution_count": 24,
   "id": "d745812e-c844-43d2-ac1b-8fcffe9a2f9b",
   "metadata": {},
   "outputs": [],
   "source": [
    "from sklearn.preprocessing import StandardScaler"
   ]
  },
  {
   "cell_type": "code",
   "execution_count": 25,
   "id": "38b258ea-4dc8-4f84-8463-ad23dacbb353",
   "metadata": {},
   "outputs": [],
   "source": [
    "scaler = StandardScaler()"
   ]
  },
  {
   "cell_type": "code",
   "execution_count": 26,
   "id": "b5ce06d3-5f7a-42a2-9e7f-b58ddb182ac5",
   "metadata": {},
   "outputs": [],
   "source": [
    "X_train_scaled = scaler.fit_transform(X_train)"
   ]
  },
  {
   "cell_type": "code",
   "execution_count": 27,
   "id": "6c4691f4-69d9-495e-bd78-f255cd8b9c43",
   "metadata": {},
   "outputs": [],
   "source": [
    "from sklearn.cluster import DBSCAN"
   ]
  },
  {
   "cell_type": "code",
   "execution_count": 28,
   "id": "dc122026-6047-4fb0-9a64-c4ac5ac9fba1",
   "metadata": {},
   "outputs": [],
   "source": [
    "dbscan = DBSCAN(eps=0.5)"
   ]
  },
  {
   "cell_type": "code",
   "execution_count": 29,
   "id": "a60e07e7-ccb6-4485-ad51-6d03468b67d1",
   "metadata": {},
   "outputs": [
    {
     "data": {
      "text/html": [
       "<style>#sk-container-id-1 {color: black;background-color: white;}#sk-container-id-1 pre{padding: 0;}#sk-container-id-1 div.sk-toggleable {background-color: white;}#sk-container-id-1 label.sk-toggleable__label {cursor: pointer;display: block;width: 100%;margin-bottom: 0;padding: 0.3em;box-sizing: border-box;text-align: center;}#sk-container-id-1 label.sk-toggleable__label-arrow:before {content: \"▸\";float: left;margin-right: 0.25em;color: #696969;}#sk-container-id-1 label.sk-toggleable__label-arrow:hover:before {color: black;}#sk-container-id-1 div.sk-estimator:hover label.sk-toggleable__label-arrow:before {color: black;}#sk-container-id-1 div.sk-toggleable__content {max-height: 0;max-width: 0;overflow: hidden;text-align: left;background-color: #f0f8ff;}#sk-container-id-1 div.sk-toggleable__content pre {margin: 0.2em;color: black;border-radius: 0.25em;background-color: #f0f8ff;}#sk-container-id-1 input.sk-toggleable__control:checked~div.sk-toggleable__content {max-height: 200px;max-width: 100%;overflow: auto;}#sk-container-id-1 input.sk-toggleable__control:checked~label.sk-toggleable__label-arrow:before {content: \"▾\";}#sk-container-id-1 div.sk-estimator input.sk-toggleable__control:checked~label.sk-toggleable__label {background-color: #d4ebff;}#sk-container-id-1 div.sk-label input.sk-toggleable__control:checked~label.sk-toggleable__label {background-color: #d4ebff;}#sk-container-id-1 input.sk-hidden--visually {border: 0;clip: rect(1px 1px 1px 1px);clip: rect(1px, 1px, 1px, 1px);height: 1px;margin: -1px;overflow: hidden;padding: 0;position: absolute;width: 1px;}#sk-container-id-1 div.sk-estimator {font-family: monospace;background-color: #f0f8ff;border: 1px dotted black;border-radius: 0.25em;box-sizing: border-box;margin-bottom: 0.5em;}#sk-container-id-1 div.sk-estimator:hover {background-color: #d4ebff;}#sk-container-id-1 div.sk-parallel-item::after {content: \"\";width: 100%;border-bottom: 1px solid gray;flex-grow: 1;}#sk-container-id-1 div.sk-label:hover label.sk-toggleable__label {background-color: #d4ebff;}#sk-container-id-1 div.sk-serial::before {content: \"\";position: absolute;border-left: 1px solid gray;box-sizing: border-box;top: 0;bottom: 0;left: 50%;z-index: 0;}#sk-container-id-1 div.sk-serial {display: flex;flex-direction: column;align-items: center;background-color: white;padding-right: 0.2em;padding-left: 0.2em;position: relative;}#sk-container-id-1 div.sk-item {position: relative;z-index: 1;}#sk-container-id-1 div.sk-parallel {display: flex;align-items: stretch;justify-content: center;background-color: white;position: relative;}#sk-container-id-1 div.sk-item::before, #sk-container-id-1 div.sk-parallel-item::before {content: \"\";position: absolute;border-left: 1px solid gray;box-sizing: border-box;top: 0;bottom: 0;left: 50%;z-index: -1;}#sk-container-id-1 div.sk-parallel-item {display: flex;flex-direction: column;z-index: 1;position: relative;background-color: white;}#sk-container-id-1 div.sk-parallel-item:first-child::after {align-self: flex-end;width: 50%;}#sk-container-id-1 div.sk-parallel-item:last-child::after {align-self: flex-start;width: 50%;}#sk-container-id-1 div.sk-parallel-item:only-child::after {width: 0;}#sk-container-id-1 div.sk-dashed-wrapped {border: 1px dashed gray;margin: 0 0.4em 0.5em 0.4em;box-sizing: border-box;padding-bottom: 0.4em;background-color: white;}#sk-container-id-1 div.sk-label label {font-family: monospace;font-weight: bold;display: inline-block;line-height: 1.2em;}#sk-container-id-1 div.sk-label-container {text-align: center;}#sk-container-id-1 div.sk-container {/* jupyter's `normalize.less` sets `[hidden] { display: none; }` but bootstrap.min.css set `[hidden] { display: none !important; }` so we also need the `!important` here to be able to override the default hidden behavior on the sphinx rendered scikit-learn.org. See: https://github.com/scikit-learn/scikit-learn/issues/21755 */display: inline-block !important;position: relative;}#sk-container-id-1 div.sk-text-repr-fallback {display: none;}</style><div id=\"sk-container-id-1\" class=\"sk-top-container\"><div class=\"sk-text-repr-fallback\"><pre>DBSCAN()</pre><b>In a Jupyter environment, please rerun this cell to show the HTML representation or trust the notebook. <br />On GitHub, the HTML representation is unable to render, please try loading this page with nbviewer.org.</b></div><div class=\"sk-container\" hidden><div class=\"sk-item\"><div class=\"sk-estimator sk-toggleable\"><input class=\"sk-toggleable__control sk-hidden--visually\" id=\"sk-estimator-id-1\" type=\"checkbox\" checked><label for=\"sk-estimator-id-1\" class=\"sk-toggleable__label sk-toggleable__label-arrow\">DBSCAN</label><div class=\"sk-toggleable__content\"><pre>DBSCAN()</pre></div></div></div></div></div>"
      ],
      "text/plain": [
       "DBSCAN()"
      ]
     },
     "execution_count": 29,
     "metadata": {},
     "output_type": "execute_result"
    }
   ],
   "source": [
    "dbscan.fit(X_train_scaled)"
   ]
  },
  {
   "cell_type": "code",
   "execution_count": 30,
   "id": "fade3de2-510c-48ec-8d59-3b154f724af9",
   "metadata": {},
   "outputs": [
    {
     "data": {
      "text/plain": [
       "array([0, 1, 0, 0, 0, 0, 1, 0, 0, 0, 0, 1, 0, 1, 0, 1, 0, 0, 0, 0, 0, 1,\n",
       "       1, 1, 1, 0, 1, 1, 0, 0, 0, 0, 0, 1, 0, 1, 1, 1, 1, 1, 0, 0, 0, 0,\n",
       "       0, 1, 1, 1, 0, 0, 0, 0, 1, 1, 1, 1, 1, 1, 0, 0, 0, 1, 1, 1, 1, 1,\n",
       "       0, 1, 0, 1, 1, 0, 0, 1, 1, 0, 0, 0, 1, 1, 0, 1, 1, 0, 0, 1, 0, 0,\n",
       "       0, 1, 1, 1, 0, 1, 1, 0, 1, 1, 1, 0, 0, 1, 1, 1, 1, 0, 0, 0, 1, 0,\n",
       "       0, 1, 0, 0, 1, 1, 1, 0, 0, 1, 1, 1, 0, 1, 0, 1, 1, 1, 1, 0, 0, 0,\n",
       "       1, 0])"
      ]
     },
     "execution_count": 30,
     "metadata": {},
     "output_type": "execute_result"
    }
   ],
   "source": [
    "dbscan.labels_"
   ]
  },
  {
   "cell_type": "code",
   "execution_count": 31,
   "id": "1ff54df5-eb70-489a-8e26-d2e905469469",
   "metadata": {},
   "outputs": [],
   "source": [
    "import matplotlib.pyplot as plt\n",
    "%matplotlib inline"
   ]
  },
  {
   "cell_type": "code",
   "execution_count": 33,
   "id": "0c29ad09-7336-4531-9d4d-7ff93f39acce",
   "metadata": {},
   "outputs": [
    {
     "data": {
      "text/plain": [
       "<matplotlib.collections.PathCollection at 0x7fe5c2d84370>"
      ]
     },
     "execution_count": 33,
     "metadata": {},
     "output_type": "execute_result"
    },
    {
     "data": {
      "image/png": "[encoded data removed]",
      "text/plain": [
       "<Figure size 640x480 with 1 Axes>"
      ]
     },
     "metadata": {},
     "output_type": "display_data"
    }
   ],
   "source": [
    "plt.scatter(X_train_scaled[: , 0] , X_train_scaled[:  ,1] , c=dbscan.labels_)"
   ]
  },
  {
   "cell_type": "markdown",
   "id": "3b8f6204-edfc-4650-b3c5-0240695c1b01",
   "metadata": {},
   "source": [
    "## OBSERVATION \n",
    "\n",
    "### There is no outliers in this dataset "
   ]
  },
  {
   "cell_type": "code",
   "execution_count": null,
   "id": "ddb0e346-cc0c-4f58-8989-d8f19c6e1a14",
   "metadata": {},
   "outputs": [],
   "source": []
  }
 ],
 "metadata": {
  "kernelspec": {
   "display_name": "Python 3 (ipykernel)",
   "language": "python",
   "name": "python3"
  },
  "language_info": {
   "codemirror_mode": {
    "name": "ipython",
    "version": 3
   },
   "file_extension": ".py",
   "mimetype": "text/x-python",
   "name": "python",
   "nbconvert_exporter": "python",
   "pygments_lexer": "ipython3",
   "version": "3.10.8"
  }
 },
 "nbformat": 4,
 "nbformat_minor": 5
}
